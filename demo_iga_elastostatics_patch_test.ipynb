{
 "cells": [
  {
   "cell_type": "markdown",
   "metadata": {},
   "source": [
    "# Classical linear elastostatics"
   ]
  },
  {
   "cell_type": "markdown",
   "metadata": {},
   "source": [
    "In this demo we discretize the classical linear elatostatics equations using the Galerkin method based on isogeometric function spaces. We follow the notation used in [1] and Bezier extraction [2]. A more mathematical view on the finite element method can be found in [3]. Regarding isogeometric analysis we refer to the first paper [4] and the book [5].\n",
    "\n",
    "\n",
    "[1] Hughes, Thomas JR. The finite element method: linear static and dynamic finite element analysis. *Courier Corporation*, 2012.\n",
    "\n",
    "\n",
    "[2] Borden, Michael J., et al. \"Isogeometric finite element data structures based on Bézier extraction of NURBS.\" International Journal for Numerical Methods in Engineering 87.1‐5 (2011): 15-47.\n",
    "\n",
    "[3] Strang, Gilbert, and George J. Fix. An analysis of the finite element method. Vol. 212. *Englewood Cliffs, NJ: Prentice-Hall*, 1973.\n",
    "\n",
    "[4] Hughes, T.J., Cottrell, J.A. and Bazilevs, Y., 2005. Isogeometric analysis: CAD, finite elements, NURBS, exact geometry and mesh refinement. *Computer methods in applied mechanics and engineering*, 194(39), pp.4135-4195.\n",
    "\n",
    "[5] Cottrell, J. Austin, Thomas JR Hughes, and Yuri Bazilevs. Isogeometric analysis: toward integration of CAD and FEA. *John Wiley & Sons*, 2009."
   ]
  },
  {
   "cell_type": "markdown",
   "metadata": {},
   "source": [
    "### Initialize path"
   ]
  },
  {
   "cell_type": "code",
   "execution_count": 1,
   "metadata": {},
   "outputs": [],
   "source": [
    "# addpath library path\n",
    "push!(LOAD_PATH, pwd());"
   ]
  },
  {
   "cell_type": "markdown",
   "metadata": {},
   "source": [
    "### Run the following command when running this code for the first time"
   ]
  },
  {
   "cell_type": "code",
   "execution_count": 2,
   "metadata": {},
   "outputs": [],
   "source": [
    "#Pkg.add(\"FastGaussQuadrature\"); Pkg.add(\"PyCall\"); Pkg.add(\"PyPlot\");"
   ]
  },
  {
   "cell_type": "markdown",
   "metadata": {},
   "source": [
    "### Load external libraries"
   ]
  },
  {
   "cell_type": "code",
   "execution_count": 3,
   "metadata": {},
   "outputs": [],
   "source": [
    "using IGA"
   ]
  },
  {
   "cell_type": "code",
   "execution_count": 4,
   "metadata": {},
   "outputs": [],
   "source": [
    "using PyPlot"
   ]
  },
  {
   "cell_type": "markdown",
   "metadata": {},
   "source": [
    "# EXAMPLE 1: Patch Test"
   ]
  },
  {
   "cell_type": "code",
   "execution_count": 5,
   "metadata": {},
   "outputs": [
    {
     "data": {
      "image/png": "[encoded data removed]",
      "text/plain": [
       "Figure(PyObject <Figure size 640x480 with 1 Axes>)"
      ]
     },
     "metadata": {},
     "output_type": "display_data"
    }
   ],
   "source": [
    "# particulars\n",
    "p   = [1,1]                                                                  # polybnomial degree\n",
    "kts = Vector{Float64}[buildvector([0.0;1.0], [p[k]+1;p[k]+1]) for k in 1:2]  # knot vector\n",
    "\n",
    "# control points and weights\n",
    "X = 10.0*[0.0  1.0 0.0 1.0];\n",
    "Y = [0.0 0.0  1.0 1.0];\n",
    "W = ones(4)\n",
    "\n",
    "# construct patch\n",
    "S = NURBS(p,kts,[X[:] Y[:]],W[:])\n",
    "degreeelevate!(S,2)                  # degree elevate both direction to cubics\n",
    "globalrefine!(S,1,12)                # global refine direction 1\n",
    "globalrefine!(S,2,1)                 # global refine direction 1\n",
    "\n",
    "# compute and store dependent data\n",
    "S.dec = bezierdecompoperator(S)      # compute Bezier decomposition operator\n",
    "S.ien = ienarray(S)                  # determine ien array\n",
    "\n",
    "# plot geometry\n",
    "plot(S,(10,10));  axis(\"equal\"); xlim([-0.5;10.5]); grid(\"on\");    # plot surface\n",
    "plot(S.cpts[:,1], S.cpts[:,2],\"yo\");                               # plot nodal data"
   ]
  },
  {
   "cell_type": "markdown",
   "metadata": {},
   "source": [
    "### The IEN-array is given by:"
   ]
  },
  {
   "cell_type": "code",
   "execution_count": 6,
   "metadata": {},
   "outputs": [
    {
     "data": {
      "text/plain": [
       "16×26 Array{Int64,2}:\n",
       "  1   2   3   4   5   6   7   8   9  …  21  22  23  24  25  26  27  28  29\n",
       "  2   3   4   5   6   7   8   9  10     22  23  24  25  26  27  28  29  30\n",
       "  3   4   5   6   7   8   9  10  11     23  24  25  26  27  28  29  30  31\n",
       "  4   5   6   7   8   9  10  11  12     24  25  26  27  28  29  30  31  32\n",
       " 17  18  19  20  21  22  23  24  25     37  38  39  40  41  42  43  44  45\n",
       " 18  19  20  21  22  23  24  25  26  …  38  39  40  41  42  43  44  45  46\n",
       " 19  20  21  22  23  24  25  26  27     39  40  41  42  43  44  45  46  47\n",
       " 20  21  22  23  24  25  26  27  28     40  41  42  43  44  45  46  47  48\n",
       " 33  34  35  36  37  38  39  40  41     53  54  55  56  57  58  59  60  61\n",
       " 34  35  36  37  38  39  40  41  42     54  55  56  57  58  59  60  61  62\n",
       " 35  36  37  38  39  40  41  42  43  …  55  56  57  58  59  60  61  62  63\n",
       " 36  37  38  39  40  41  42  43  44     56  57  58  59  60  61  62  63  64\n",
       " 49  50  51  52  53  54  55  56  57     69  70  71  72  73  74  75  76  77\n",
       " 50  51  52  53  54  55  56  57  58     70  71  72  73  74  75  76  77  78\n",
       " 51  52  53  54  55  56  57  58  59     71  72  73  74  75  76  77  78  79\n",
       " 52  53  54  55  56  57  58  59  60  …  72  73  74  75  76  77  78  79  80"
      ]
     },
     "execution_count": 6,
     "metadata": {},
     "output_type": "execute_result"
    }
   ],
   "source": [
    "S.ien"
   ]
  },
  {
   "cell_type": "markdown",
   "metadata": {},
   "source": [
    "### Next we define the problems specific data, such as material properties, boundary displacements and tractions, and the ID-array"
   ]
  },
  {
   "cell_type": "code",
   "execution_count": 7,
   "metadata": {},
   "outputs": [
    {
     "data": {
      "text/plain": [
       "2×80 Array{Int64,2}:\n",
       " 0  1  3  5  7   9  11  13  15  17  19  …  141  143  145  147  149  151  153\n",
       " 0  2  4  6  8  10  12  14  16  18  20     142  144  146  148  150  152  154"
      ]
     },
     "execution_count": 7,
     "metadata": {},
     "output_type": "execute_result"
    }
   ],
   "source": [
    "# Hookean constitutive law\n",
    "ν = 0.3\n",
    "E = 10e5\n",
    "λ = ν*E / ((1+ν)*(1-2ν))\n",
    "μ = E   / (2*(1+ν))\n",
    "D(x::Vector{Float64}) = [λ+2μ    λ  0.0\n",
    "                         λ    λ+2μ  0.0;\n",
    "                         0.0   0.0    μ];\n",
    "\n",
    "# analytical solution\n",
    "σ(x::Vector{Float64}) = [10.0; 0.0; 0.0]\n",
    "\n",
    "# set righthandside forcing\n",
    "f(x::Vector{Float64}) = zeros(2)    \n",
    "\n",
    "# boundary displacements\n",
    "g(x::Vector{Float64}) = zeros(2)\n",
    "\n",
    "# set tractions\n",
    "function h(x::Vector{Float64})\n",
    "    T = [0.0; 0.0]\n",
    "    if abs(x[1]-10.0) < 1e-10\n",
    "        T = σ(x)[[1,3]]\n",
    "    end\n",
    "    return T\n",
    "end\n",
    "\n",
    "# set ID array\n",
    "ndofs = dimsplinespace(S)\n",
    "ID    = ones(Int64, 2, prod(ndofs))             # initialize ID-array\n",
    "ID[1, ∂(S,1,1).ien[:]] .= 0                     # restrain x-direction on left boundary (dir==1,k==1) \n",
    "ID[2, 1] = 0                                    # restrain y-direction of bottom left corner of NURBS Patch\n",
    "\n",
    "id = 1\n",
    "for k in 1:length(ID)\n",
    "    if ID[k]!=0\n",
    "        ID[k] = id\n",
    "        id+=1\n",
    "    end\n",
    "end\n",
    "S.id = ID # set ID array"
   ]
  },
  {
   "cell_type": "markdown",
   "metadata": {},
   "source": [
    "### Solve the problem"
   ]
  },
  {
   "cell_type": "code",
   "execution_count": 8,
   "metadata": {},
   "outputs": [],
   "source": [
    "# assmemble equations\n",
    "K, F = assembly(S, D, f, g, h);"
   ]
  },
  {
   "cell_type": "code",
   "execution_count": 9,
   "metadata": {},
   "outputs": [],
   "source": [
    "# compute unknown displacements\n",
    "U = zeros(Float64,size(ID))\n",
    "U[S.id.!=0] = K \\ F;            "
   ]
  },
  {
   "cell_type": "markdown",
   "metadata": {},
   "source": [
    "### Plot the deformed configuration. With factor $\\alpha$ the displacement field can be magnified."
   ]
  },
  {
   "cell_type": "code",
   "execution_count": 10,
   "metadata": {},
   "outputs": [
    {
     "data": {
      "image/png": "[encoded data removed]",
      "text/plain": [
       "Figure(PyObject <Figure size 640x480 with 1 Axes>)"
      ]
     },
     "metadata": {},
     "output_type": "display_data"
    }
   ],
   "source": [
    "α = 10000                                                    # magnification factor\n",
    "G = deepcopy(S)                                              # make a copy of the initial geometry\n",
    "G.cpts += α*U'                                               # update control points\n",
    "plot(G,(3,3)); axis(\"equal\"); xlim([-0.5;20.5]); grid(\"on\"); # plot deformed configuration\n",
    "plot(G.cpts[:,1], G.cpts[:,2],\"yo\");                         # plot nodal data"
   ]
  },
  {
   "cell_type": "markdown",
   "metadata": {},
   "source": [
    "### Plot the stress componenent in direction $k$."
   ]
  },
  {
   "cell_type": "code",
   "execution_count": 11,
   "metadata": {},
   "outputs": [
    {
     "data": {
      "image/png": "[encoded data removed]",
      "text/plain": [
       "Figure(PyObject <Figure size 640x480 with 2 Axes>)"
      ]
     },
     "metadata": {},
     "output_type": "display_data"
    },
    {
     "name": "stdout",
     "output_type": "stream",
     "text": [
      "The L² error in stress is: \n",
      " [1.43555e-12, 6.38805e-14, 1.16999e-13]\n"
     ]
    }
   ],
   "source": [
    "# plot stress component k\n",
    "Sol = deepcopy(S); Sol.cpts = U'                                     # make a copy of the initial NURBS geometry\n",
    "ks  = 1                                                              # Choose component of stress\n",
    "plot_stress_contours(S, Sol, ks, D, linearspace(-12,12.0,30), (10,10))   # plot the stress field\n",
    "axis(\"equal\")\n",
    "\n",
    "# compute L² residual\n",
    "L2 = L2residual(S, Sol, σ, D)\n",
    "println(\"The L² error in stress is: \\n $L2\")"
   ]
  }
 ],
 "metadata": {
  "kernelspec": {
   "display_name": "Julia 1.0.0",
   "language": "julia",
   "name": "julia-1.0"
  },
  "language_info": {
   "file_extension": ".jl",
   "mimetype": "application/julia",
   "name": "julia",
   "version": "1.0.0"
  }
 },
 "nbformat": 4,
 "nbformat_minor": 1
}
